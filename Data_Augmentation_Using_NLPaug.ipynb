{
 "cells": [
  {
   "cell_type": "markdown",
   "id": "4af1628d",
   "metadata": {},
   "source": [
    "## Data Augmentation using NLPaug"
   ]
  },
  {
   "cell_type": "markdown",
   "id": "6e25822f",
   "metadata": {},
   "source": [
    "This notebook demostrate the usage of a character augmenter, word augmenter. There are other types such as augmentation for sentences, audio, spectrogram inputs etc. All of the types many before mentioned types and many more can be found at the github repo and docs of nlpaug."
   ]
  },
  {
   "cell_type": "code",
   "execution_count": 1,
   "id": "13a1d1bd",
   "metadata": {},
   "outputs": [
    {
     "name": "stdout",
     "output_type": "stream",
     "text": [
      "Requirement already satisfied: numpy in c:\\users\\choukrallah lachhab\\anaconda3\\lib\\site-packages (1.23.5)\n",
      "Collecting nlpaug\n",
      "  Downloading nlpaug-1.1.11-py3-none-any.whl (410 kB)\n",
      "     -------------------------------------- 410.5/410.5 kB 8.5 MB/s eta 0:00:00\n",
      "Collecting gdown>=4.0.0\n",
      "  Downloading gdown-4.7.1-py3-none-any.whl (15 kB)\n",
      "Requirement already satisfied: requests>=2.22.0 in c:\\users\\choukrallah lachhab\\anaconda3\\lib\\site-packages (from nlpaug) (2.28.1)\n",
      "Requirement already satisfied: pandas>=1.2.0 in c:\\users\\choukrallah lachhab\\anaconda3\\lib\\site-packages (from nlpaug) (1.5.3)\n",
      "Requirement already satisfied: numpy>=1.16.2 in c:\\users\\choukrallah lachhab\\anaconda3\\lib\\site-packages (from nlpaug) (1.23.5)\n",
      "Requirement already satisfied: filelock in c:\\users\\choukrallah lachhab\\anaconda3\\lib\\site-packages (from gdown>=4.0.0->nlpaug) (3.9.0)\n",
      "Requirement already satisfied: beautifulsoup4 in c:\\users\\choukrallah lachhab\\anaconda3\\lib\\site-packages (from gdown>=4.0.0->nlpaug) (4.11.1)\n",
      "Requirement already satisfied: six in c:\\users\\choukrallah lachhab\\anaconda3\\lib\\site-packages (from gdown>=4.0.0->nlpaug) (1.16.0)\n",
      "Requirement already satisfied: tqdm in c:\\users\\choukrallah lachhab\\anaconda3\\lib\\site-packages (from gdown>=4.0.0->nlpaug) (4.64.1)\n",
      "Requirement already satisfied: pytz>=2020.1 in c:\\users\\choukrallah lachhab\\anaconda3\\lib\\site-packages (from pandas>=1.2.0->nlpaug) (2022.7)\n",
      "Requirement already satisfied: python-dateutil>=2.8.1 in c:\\users\\choukrallah lachhab\\anaconda3\\lib\\site-packages (from pandas>=1.2.0->nlpaug) (2.8.2)\n",
      "Requirement already satisfied: urllib3<1.27,>=1.21.1 in c:\\users\\choukrallah lachhab\\anaconda3\\lib\\site-packages (from requests>=2.22.0->nlpaug) (1.26.14)\n",
      "Requirement already satisfied: certifi>=2017.4.17 in c:\\users\\choukrallah lachhab\\anaconda3\\lib\\site-packages (from requests>=2.22.0->nlpaug) (2022.12.7)\n",
      "Requirement already satisfied: idna<4,>=2.5 in c:\\users\\choukrallah lachhab\\anaconda3\\lib\\site-packages (from requests>=2.22.0->nlpaug) (3.4)\n",
      "Requirement already satisfied: charset-normalizer<3,>=2 in c:\\users\\choukrallah lachhab\\anaconda3\\lib\\site-packages (from requests>=2.22.0->nlpaug) (2.0.4)\n",
      "Requirement already satisfied: soupsieve>1.2 in c:\\users\\choukrallah lachhab\\anaconda3\\lib\\site-packages (from beautifulsoup4->gdown>=4.0.0->nlpaug) (2.3.2.post1)\n",
      "Requirement already satisfied: PySocks!=1.5.7,>=1.5.6 in c:\\users\\choukrallah lachhab\\anaconda3\\lib\\site-packages (from requests>=2.22.0->nlpaug) (1.7.1)\n",
      "Requirement already satisfied: colorama in c:\\users\\choukrallah lachhab\\anaconda3\\lib\\site-packages (from tqdm->gdown>=4.0.0->nlpaug) (0.4.6)\n",
      "Installing collected packages: gdown, nlpaug\n",
      "Successfully installed gdown-4.7.1 nlpaug-1.1.11\n",
      "Collecting wget\n",
      "  Downloading wget-3.2.zip (10 kB)\n",
      "  Preparing metadata (setup.py): started\n",
      "  Preparing metadata (setup.py): finished with status 'done'\n",
      "Building wheels for collected packages: wget\n",
      "  Building wheel for wget (setup.py): started\n",
      "  Building wheel for wget (setup.py): finished with status 'done'\n",
      "  Created wheel for wget: filename=wget-3.2-py3-none-any.whl size=9680 sha256=3c64bac3baec0008b7107884e583beaeece0d3b1dce4c68d1e16d403a42938f5\n",
      "  Stored in directory: c:\\users\\choukrallah lachhab\\appdata\\local\\pip\\cache\\wheels\\46\\78\\0e\\8e5e2b500f83a682c8d7e7ce820638cf99faa894a662f71cf0\n",
      "Successfully built wget\n",
      "Installing collected packages: wget\n",
      "Successfully installed wget-3.2\n",
      "Requirement already satisfied: matplotlib in c:\\users\\choukrallah lachhab\\anaconda3\\lib\\site-packages (3.7.0)\n",
      "Requirement already satisfied: kiwisolver>=1.0.1 in c:\\users\\choukrallah lachhab\\anaconda3\\lib\\site-packages (from matplotlib) (1.4.4)\n",
      "Requirement already satisfied: cycler>=0.10 in c:\\users\\choukrallah lachhab\\anaconda3\\lib\\site-packages (from matplotlib) (0.11.0)\n",
      "Requirement already satisfied: python-dateutil>=2.7 in c:\\users\\choukrallah lachhab\\anaconda3\\lib\\site-packages (from matplotlib) (2.8.2)\n",
      "Requirement already satisfied: packaging>=20.0 in c:\\users\\choukrallah lachhab\\anaconda3\\lib\\site-packages (from matplotlib) (22.0)\n",
      "Requirement already satisfied: fonttools>=4.22.0 in c:\\users\\choukrallah lachhab\\anaconda3\\lib\\site-packages (from matplotlib) (4.25.0)\n",
      "Requirement already satisfied: contourpy>=1.0.1 in c:\\users\\choukrallah lachhab\\anaconda3\\lib\\site-packages (from matplotlib) (1.0.5)\n",
      "Requirement already satisfied: pillow>=6.2.0 in c:\\users\\choukrallah lachhab\\anaconda3\\lib\\site-packages (from matplotlib) (9.4.0)\n",
      "Requirement already satisfied: numpy>=1.20 in c:\\users\\choukrallah lachhab\\anaconda3\\lib\\site-packages (from matplotlib) (1.23.5)\n",
      "Requirement already satisfied: pyparsing>=2.3.1 in c:\\users\\choukrallah lachhab\\anaconda3\\lib\\site-packages (from matplotlib) (3.0.9)\n",
      "Requirement already satisfied: six>=1.5 in c:\\users\\choukrallah lachhab\\anaconda3\\lib\\site-packages (from python-dateutil>=2.7->matplotlib) (1.16.0)\n",
      "Requirement already satisfied: requests in c:\\users\\choukrallah lachhab\\anaconda3\\lib\\site-packages (2.28.1)\n",
      "Requirement already satisfied: certifi>=2017.4.17 in c:\\users\\choukrallah lachhab\\anaconda3\\lib\\site-packages (from requests) (2022.12.7)\n",
      "Requirement already satisfied: idna<4,>=2.5 in c:\\users\\choukrallah lachhab\\anaconda3\\lib\\site-packages (from requests) (3.4)\n",
      "Requirement already satisfied: urllib3<1.27,>=1.21.1 in c:\\users\\choukrallah lachhab\\anaconda3\\lib\\site-packages (from requests) (1.26.14)\n",
      "Requirement already satisfied: charset-normalizer<3,>=2 in c:\\users\\choukrallah lachhab\\anaconda3\\lib\\site-packages (from requests) (2.0.4)\n"
     ]
    }
   ],
   "source": [
    "!pip install numpy\n",
    "!pip install nlpaug\n",
    "!pip install wget\n",
    "!pip install matplotlib\n",
    "!pip install requests"
   ]
  },
  {
   "cell_type": "code",
   "execution_count": 2,
   "id": "e2d34843",
   "metadata": {},
   "outputs": [],
   "source": [
    "# This will be the base text which we will be using throughout this notebook\n",
    "text=\"The quick brown fox jumps over the lazy dog .\""
   ]
  },
  {
   "cell_type": "code",
   "execution_count": 3,
   "id": "824420d0",
   "metadata": {},
   "outputs": [],
   "source": [
    "import nlpaug.augmenter.char as nac\n",
    "import nlpaug.augmenter.word as naw\n",
    "import nlpaug.augmenter.sentence as nas\n",
    "import nlpaug.flow as nafc\n",
    "\n",
    "from nlpaug.util import Action\n",
    "import os"
   ]
  },
  {
   "cell_type": "markdown",
   "id": "68f06b62",
   "metadata": {},
   "source": [
    "### Augmentation at the Character Level"
   ]
  },
  {
   "cell_type": "markdown",
   "id": "e067dae2",
   "metadata": {},
   "source": [
    "1 . **OCR Augmenter**: To read textual data from on image, we need an OCR(optical character recognition) model. Once the text is extracted from the image, there may be errors like; '0' instead of an 'o', '2' instead of 'z' and other such similar errors.\n",
    "\n",
    "2 . **Keyboard Augmenter**: While typing/texting typos are fairly common this augmenter simulates the errors by substituting characters in words with ones at a similar distance on a keyboard."
   ]
  },
  {
   "cell_type": "code",
   "execution_count": 4,
   "id": "68059428",
   "metadata": {},
   "outputs": [
    {
     "name": "stdout",
     "output_type": "stream",
     "text": [
      "Original:\n",
      "The quick brown fox jumps over the lazy dog .\n",
      "Augmented Texts:\n",
      "['The quick brown fox jumps over the lazy d09.', 'The quick brown fox jumps over the 1a2y dog.', 'The quick brown f0x jumps over the lazy dog.']\n"
     ]
    }
   ],
   "source": [
    "aug = nac.OcrAug()  \n",
    "augmented_texts = aug.augment(text, n=3) # specifying n=3 gives us only 3 augmented versions of the sentence.\n",
    "\n",
    "print(\"Original:\")\n",
    "print(text)\n",
    "\n",
    "print(\"Augmented Texts:\")\n",
    "print(augmented_texts)"
   ]
  },
  {
   "cell_type": "code",
   "execution_count": 5,
   "id": "9d90255c",
   "metadata": {},
   "outputs": [
    {
     "name": "stdout",
     "output_type": "stream",
     "text": [
      "Original:\n",
      "The quick brown fox jumps over the lazy dog .\n",
      "Augmented Text:\n",
      "['The qJivk brown fox jumOW ovd# the lazy dog.', 'The qukfk b$owH fox jumps over the ?xzy dog.', 'The quick NEown fox jumps ov@E the >Qzy dog.']\n"
     ]
    }
   ],
   "source": [
    "aug = nac.KeyboardAug()\n",
    "augmented_text = aug.augment(text, n=3) # specifying n=3 gives us only 3 augmented versions of the sentence.\n",
    "\n",
    "print(\"Original:\")\n",
    "print(text)\n",
    "\n",
    "print(\"Augmented Text:\")\n",
    "print(augmented_text)"
   ]
  },
  {
   "cell_type": "markdown",
   "id": "5f856eec",
   "metadata": {},
   "source": [
    "There are other types of character augmenters too."
   ]
  },
  {
   "cell_type": "markdown",
   "id": "073da0b3",
   "metadata": {},
   "source": [
    "### Augmentation at the Word Level"
   ]
  },
  {
   "cell_type": "markdown",
   "id": "d0e1e2b4",
   "metadata": {},
   "source": [
    "Augmentation is important at the word level as well , here we use word2vec to insert or substitute a similar word."
   ]
  },
  {
   "cell_type": "markdown",
   "id": "8b8a8b5e",
   "metadata": {},
   "source": [
    "#### 1 - Spelling augmentor"
   ]
  },
  {
   "cell_type": "code",
   "execution_count": 6,
   "id": "f157bbdd",
   "metadata": {},
   "outputs": [],
   "source": [
    "# Downloading the required txt file\n",
    "import wget\n",
    "\n",
    "if not os.path.exists(\"spelling_en.txt\"):\n",
    "    wget.download(\"https://raw.githubusercontent.com/makcedward/nlpaug/5238e0be734841b69651d2043df535d78a8cc594/nlpaug/res/word/spelling/spelling_en.txt\")\n",
    "else:\n",
    "    print(\"File already exists\")"
   ]
  },
  {
   "cell_type": "code",
   "execution_count": 7,
   "id": "732794ff",
   "metadata": {},
   "outputs": [
    {
     "name": "stdout",
     "output_type": "stream",
     "text": [
      "Original:\n",
      "The quick brown fox jumps over the lazy dog .\n",
      "Augmented Texts:\n",
      "['The qchick brown fox jumps over tne lazy djg.']\n"
     ]
    }
   ],
   "source": [
    "# Substitute word by spelling mistake words dictionary\n",
    "aug = naw.SpellingAug('spelling_en.txt')\n",
    "augmented_texts = aug.augment(text)\n",
    "print(\"Original:\")\n",
    "print(text)\n",
    "print(\"Augmented Texts:\")\n",
    "print(augmented_texts)"
   ]
  },
  {
   "cell_type": "markdown",
   "id": "dad08f94",
   "metadata": {},
   "source": [
    "#### 2 - Word embeddings augmentor"
   ]
  },
  {
   "cell_type": "code",
   "execution_count": 10,
   "id": "667d317f",
   "metadata": {},
   "outputs": [],
   "source": [
    "gn_vec_path = \"GoogleNews-vectors-negative300.bin.gz\""
   ]
  },
  {
   "cell_type": "markdown",
   "id": "e2e16882",
   "metadata": {},
   "source": [
    "Insert word randomly by word embeddings similarity"
   ]
  },
  {
   "cell_type": "code",
   "execution_count": 11,
   "id": "af83ae3b",
   "metadata": {},
   "outputs": [
    {
     "name": "stdout",
     "output_type": "stream",
     "text": [
      "Original:\n",
      "The quick brown fox jumps over the lazy dog .\n",
      "Augmented Text:\n",
      "['Master The quick brown dwelling fox jumps over the lazy Pend dog.']\n"
     ]
    }
   ],
   "source": [
    "# model_type: word2vec, glove or fasttext\n",
    "aug = naw.WordEmbsAug(\n",
    "    model_type='word2vec', model_path=gn_vec_path,\n",
    "    action=\"insert\")\n",
    "augmented_text = aug.augment(text)\n",
    "print(\"Original:\")\n",
    "print(text)\n",
    "print(\"Augmented Text:\")\n",
    "print(augmented_text)"
   ]
  },
  {
   "cell_type": "markdown",
   "id": "bfd8b8cb",
   "metadata": {},
   "source": [
    "Substitute word by word2vec similarity"
   ]
  },
  {
   "cell_type": "code",
   "execution_count": 12,
   "id": "eefda3fa",
   "metadata": {},
   "outputs": [
    {
     "name": "stdout",
     "output_type": "stream",
     "text": [
      "Original:\n",
      "The quick brown fox jumps over the lazy dog .\n",
      "Augmented Text:\n",
      "['The quick brown fox grooming_petting cu_zn_ore particular lazy dog.']\n"
     ]
    }
   ],
   "source": [
    "aug = naw.WordEmbsAug(\n",
    "    model_type='word2vec', model_path=gn_vec_path,\n",
    "    action=\"substitute\")\n",
    "augmented_text = aug.augment(text)\n",
    "print(\"Original:\")\n",
    "print(text)\n",
    "print(\"Augmented Text:\")\n",
    "print(augmented_text)"
   ]
  },
  {
   "cell_type": "markdown",
   "id": "ca4b9649",
   "metadata": {},
   "source": [
    "There are many more features which nlpaug offers you can visit the github repo and documentation for further details"
   ]
  }
 ],
 "metadata": {
  "kernelspec": {
   "display_name": "Python 3 (ipykernel)",
   "language": "python",
   "name": "python3"
  },
  "language_info": {
   "codemirror_mode": {
    "name": "ipython",
    "version": 3
   },
   "file_extension": ".py",
   "mimetype": "text/x-python",
   "name": "python",
   "nbconvert_exporter": "python",
   "pygments_lexer": "ipython3",
   "version": "3.10.9"
  }
 },
 "nbformat": 4,
 "nbformat_minor": 5
}
